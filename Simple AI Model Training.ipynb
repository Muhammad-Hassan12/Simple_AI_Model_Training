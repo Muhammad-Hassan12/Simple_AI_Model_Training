{
 "cells": [
  {
   "cell_type": "markdown",
   "id": "2c618513",
   "metadata": {},
   "source": [
    "# Simple AI Model Training\n",
    "#### Definition: \n",
    "Model training is the phase in the data science development lifecycle where practitioners try to fit the best combination of weights and bias to a machine learning algorithm to minimize a loss function over the prediction range.(source = c3.ai.com)"
   ]
  },
  {
   "cell_type": "markdown",
   "id": "997848bc",
   "metadata": {},
   "source": [
    "## What we are going to do?\n",
    "In this repository we are going to train an \"AI Model\" to predict the correct \"Flower\" according to the data we give it!\n",
    "## Which Data-Set are we going to use?\n",
    "In this project we are going to use \"sklearn\" dataset called \"Load_iris\"(This data set includes the data of Different flowers, their sepal, petal lenght and width!)."
   ]
  },
  {
   "cell_type": "markdown",
   "id": "3f2868cb",
   "metadata": {},
   "source": [
    "###### 1. Lets Start by Importing the Data set!"
   ]
  },
  {
   "cell_type": "code",
   "execution_count": 1,
   "id": "99853a21",
   "metadata": {},
   "outputs": [],
   "source": [
    "from sklearn.datasets import load_iris"
   ]
  },
  {
   "cell_type": "code",
   "execution_count": 2,
   "id": "6ddf9487",
   "metadata": {},
   "outputs": [],
   "source": [
    "iris = load_iris()"
   ]
  },
  {
   "cell_type": "markdown",
   "id": "ca92250b",
   "metadata": {},
   "source": [
    "###### 2. Now lets seperate the \"data\" and the \"target(Flowers)\""
   ]
  },
  {
   "cell_type": "code",
   "execution_count": 3,
   "id": "3d2dd2ed",
   "metadata": {},
   "outputs": [],
   "source": [
    "x = iris.data\n",
    "y = iris.target"
   ]
  },
  {
   "cell_type": "code",
   "execution_count": 4,
   "id": "ee669c17",
   "metadata": {},
   "outputs": [],
   "source": [
    "feature_names = iris.feature_names\n",
    "target_names = iris.target_names"
   ]
  },
  {
   "cell_type": "code",
   "execution_count": 5,
   "id": "9e80cf58",
   "metadata": {},
   "outputs": [
    {
     "name": "stdout",
     "output_type": "stream",
     "text": [
      "Feature names:  ['sepal length (cm)', 'sepal width (cm)', 'petal length (cm)', 'petal width (cm)']\n",
      "Target names:  ['setosa' 'versicolor' 'virginica']\n"
     ]
    }
   ],
   "source": [
    "print(\"Feature names: \", feature_names)\n",
    "print(\"Target names: \", target_names)"
   ]
  },
  {
   "cell_type": "markdown",
   "id": "b49b361b",
   "metadata": {},
   "source": [
    "###### 3. This is the shape of the data-set! (150 = features of flowers) and (4 = names of Flowers)"
   ]
  },
  {
   "cell_type": "code",
   "execution_count": 6,
   "id": "dca151df",
   "metadata": {},
   "outputs": [
    {
     "name": "stdout",
     "output_type": "stream",
     "text": [
      "(150, 4)\n"
     ]
    }
   ],
   "source": [
    "print(x.shape)"
   ]
  },
  {
   "cell_type": "markdown",
   "id": "6c0d39c0",
   "metadata": {},
   "source": [
    "###### 4. Visualzing the data-set! In this case I am only visualizing the top 10 rows of data!"
   ]
  },
  {
   "cell_type": "code",
   "execution_count": 7,
   "id": "2d349260",
   "metadata": {},
   "outputs": [
    {
     "name": "stdout",
     "output_type": "stream",
     "text": [
      "\n",
      " First 10 rows:\n",
      " [[5.1 3.5 1.4 0.2]\n",
      " [4.9 3.  1.4 0.2]\n",
      " [4.7 3.2 1.3 0.2]\n",
      " [4.6 3.1 1.5 0.2]\n",
      " [5.  3.6 1.4 0.2]\n",
      " [5.4 3.9 1.7 0.4]\n",
      " [4.6 3.4 1.4 0.3]\n",
      " [5.  3.4 1.5 0.2]\n",
      " [4.4 2.9 1.4 0.2]\n",
      " [4.9 3.1 1.5 0.1]]\n",
      "\n",
      " [0 0 0 0 0 0 0 0 0 0]\n"
     ]
    }
   ],
   "source": [
    "print(\"\\n First 10 rows:\\n\", x[:10])\n",
    "print(\"\\n\", y[:10])"
   ]
  },
  {
   "cell_type": "markdown",
   "id": "80d3956e",
   "metadata": {},
   "source": [
    "###### 5. Now using \"train_test_split\" algorithms to splint the data into \"train\" and \"test\"! I am using \"train_size = 0.1\" and \"random_state = 1\" because in this way \"I am getting the best result\"! (you can cange it according to the result you get!)"
   ]
  },
  {
   "cell_type": "code",
   "execution_count": 8,
   "id": "7318a2f8",
   "metadata": {},
   "outputs": [],
   "source": [
    "from sklearn.model_selection import train_test_split"
   ]
  },
  {
   "cell_type": "code",
   "execution_count": 9,
   "id": "50418644",
   "metadata": {},
   "outputs": [],
   "source": [
    "x_train ,x_test, y_train, y_test = train_test_split(\n",
    "x ,y, train_size=0.1, random_state=1, shuffle=True\n",
    ")"
   ]
  },
  {
   "cell_type": "markdown",
   "id": "712907f8",
   "metadata": {},
   "source": [
    "###### 6. For this model I am going to use \"KNeighborsClassifier\"!"
   ]
  },
  {
   "cell_type": "code",
   "execution_count": 10,
   "id": "0799a523",
   "metadata": {},
   "outputs": [],
   "source": [
    "from sklearn.neighbors import KNeighborsClassifier\n",
    "from sklearn import metrics"
   ]
  },
  {
   "cell_type": "markdown",
   "id": "d7b99bf5",
   "metadata": {},
   "source": [
    "###### 7. I am specifying the number of neighbors to \"3\"! (So that it will check three neighbors before executing the answer!)"
   ]
  },
  {
   "cell_type": "code",
   "execution_count": 11,
   "id": "d638396d",
   "metadata": {},
   "outputs": [],
   "source": [
    "classifier_knn = KNeighborsClassifier(n_neighbors=3)"
   ]
  },
  {
   "cell_type": "markdown",
   "id": "86d8932f",
   "metadata": {},
   "source": [
    "###### 8. In this step the \"Model Training\" is being done!"
   ]
  },
  {
   "cell_type": "code",
   "execution_count": 12,
   "id": "6079fe3e",
   "metadata": {},
   "outputs": [
    {
     "data": {
      "text/plain": [
       "KNeighborsClassifier(n_neighbors=3)"
      ]
     },
     "execution_count": 12,
     "metadata": {},
     "output_type": "execute_result"
    }
   ],
   "source": [
    "classifier_knn.fit(x_train, y_train)"
   ]
  },
  {
   "cell_type": "markdown",
   "id": "b6756de9",
   "metadata": {},
   "source": [
    "###### 9. In this step we are telling the classifier to pridict \"x_test\"!"
   ]
  },
  {
   "cell_type": "code",
   "execution_count": 13,
   "id": "32c6e339",
   "metadata": {},
   "outputs": [
    {
     "name": "stderr",
     "output_type": "stream",
     "text": [
      "C:\\Users\\M.TECH COMPUTER\\anaconda3\\lib\\site-packages\\sklearn\\neighbors\\_classification.py:228: FutureWarning: Unlike other reduction functions (e.g. `skew`, `kurtosis`), the default behavior of `mode` typically preserves the axis it acts along. In SciPy 1.11.0, this behavior will change: the default value of `keepdims` will become False, the `axis` over which the statistic is taken will be eliminated, and the value None will no longer be accepted. Set `keepdims` to True or False to avoid this warning.\n",
      "  mode, _ = stats.mode(_y[neigh_ind, k], axis=1)\n"
     ]
    }
   ],
   "source": [
    "y_pred = classifier_knn.predict(x_test)"
   ]
  },
  {
   "cell_type": "markdown",
   "id": "ade0ba47",
   "metadata": {},
   "source": [
    "###### 10. Finding the accuracy by compairing the actual response(y_test) with the pridicted response(y_pred)!\n",
    "In my case I got the accuracy of \"95.55%\". This accuracy result may vary from computer to computer(due to various reasons)!"
   ]
  },
  {
   "cell_type": "code",
   "execution_count": 14,
   "id": "83565309",
   "metadata": {},
   "outputs": [
    {
     "name": "stdout",
     "output_type": "stream",
     "text": [
      "Accuarcy:  0.9555555555555556\n"
     ]
    }
   ],
   "source": [
    "print('Accuarcy: ', metrics.accuracy_score(y_test, y_pred))"
   ]
  },
  {
   "cell_type": "markdown",
   "id": "124cc93b",
   "metadata": {},
   "source": [
    "###### 11. Providing sample data so that the model will make prediction out of it!"
   ]
  },
  {
   "cell_type": "code",
   "execution_count": 15,
   "id": "e8cee778",
   "metadata": {},
   "outputs": [
    {
     "name": "stdout",
     "output_type": "stream",
     "text": [
      "[2 0]\n"
     ]
    },
    {
     "name": "stderr",
     "output_type": "stream",
     "text": [
      "C:\\Users\\M.TECH COMPUTER\\anaconda3\\lib\\site-packages\\sklearn\\neighbors\\_classification.py:228: FutureWarning: Unlike other reduction functions (e.g. `skew`, `kurtosis`), the default behavior of `mode` typically preserves the axis it acts along. In SciPy 1.11.0, this behavior will change: the default value of `keepdims` will become False, the `axis` over which the statistic is taken will be eliminated, and the value None will no longer be accepted. Set `keepdims` to True or False to avoid this warning.\n",
      "  mode, _ = stats.mode(_y[neigh_ind, k], axis=1)\n"
     ]
    }
   ],
   "source": [
    "sample = [[3, 4, 5, 5], [2, 6, 4, 3]]\n",
    "predt = classifier_knn.predict(sample)\n",
    "print(predt)"
   ]
  },
  {
   "cell_type": "markdown",
   "id": "e8c181f9",
   "metadata": {},
   "source": [
    "###### 12. Since we have got the prediction above but it is in code values! In this step I am making a \"loop\" so that it the values can be seen with their proper names!"
   ]
  },
  {
   "cell_type": "code",
   "execution_count": 16,
   "id": "0095ca66",
   "metadata": {},
   "outputs": [
    {
     "name": "stdout",
     "output_type": "stream",
     "text": [
      "Predictions:  ['virginica', 'setosa']\n"
     ]
    }
   ],
   "source": [
    "pred_species = [iris.target_names[p] for p in predt]\n",
    "print(\"Predictions: \", pred_species)"
   ]
  },
  {
   "cell_type": "markdown",
   "id": "4a441f74",
   "metadata": {},
   "source": [
    "###### 13. Saving the trained model!\n",
    "This step is very usefull specially in \"Large Model Data Training\", so that we don't have to train the dataset again and again, just save it and recal it when you need it!"
   ]
  },
  {
   "cell_type": "code",
   "execution_count": 17,
   "id": "b21adb54",
   "metadata": {},
   "outputs": [],
   "source": [
    "import joblib"
   ]
  },
  {
   "cell_type": "code",
   "execution_count": 18,
   "id": "97931e47",
   "metadata": {},
   "outputs": [
    {
     "data": {
      "text/plain": [
       "['Iris_classifier_knn.joblib']"
      ]
     },
     "execution_count": 18,
     "metadata": {},
     "output_type": "execute_result"
    }
   ],
   "source": [
    "joblib.dump(classifier_knn, \"Iris_classifier_knn.joblib\")"
   ]
  },
  {
   "cell_type": "markdown",
   "id": "1dca1ea8",
   "metadata": {},
   "source": [
    "###### 14. Recalling the saved \"Pre-Trained Model\"!"
   ]
  },
  {
   "cell_type": "code",
   "execution_count": 19,
   "id": "90de3afe",
   "metadata": {},
   "outputs": [],
   "source": [
    "model = joblib.load(\"Iris_classifier_knn.joblib\")"
   ]
  },
  {
   "cell_type": "code",
   "execution_count": 20,
   "id": "8ecc29f3",
   "metadata": {},
   "outputs": [
    {
     "name": "stderr",
     "output_type": "stream",
     "text": [
      "C:\\Users\\M.TECH COMPUTER\\anaconda3\\lib\\site-packages\\sklearn\\neighbors\\_classification.py:228: FutureWarning: Unlike other reduction functions (e.g. `skew`, `kurtosis`), the default behavior of `mode` typically preserves the axis it acts along. In SciPy 1.11.0, this behavior will change: the default value of `keepdims` will become False, the `axis` over which the statistic is taken will be eliminated, and the value None will no longer be accepted. Set `keepdims` to True or False to avoid this warning.\n",
      "  mode, _ = stats.mode(_y[neigh_ind, k], axis=1)\n"
     ]
    },
    {
     "data": {
      "text/plain": [
       "array([2])"
      ]
     },
     "execution_count": 20,
     "metadata": {},
     "output_type": "execute_result"
    }
   ],
   "source": [
    "model.predict([[1,3,6,2]])"
   ]
  },
  {
   "cell_type": "markdown",
   "id": "12574fca",
   "metadata": {},
   "source": [
    "## Please Read the \"readme.txt\" file!"
   ]
  }
 ],
 "metadata": {
  "kernelspec": {
   "display_name": "Python 3 (ipykernel)",
   "language": "python",
   "name": "python3"
  },
  "language_info": {
   "codemirror_mode": {
    "name": "ipython",
    "version": 3
   },
   "file_extension": ".py",
   "mimetype": "text/x-python",
   "name": "python",
   "nbconvert_exporter": "python",
   "pygments_lexer": "ipython3",
   "version": "3.9.13"
  }
 },
 "nbformat": 4,
 "nbformat_minor": 5
}
